{
 "cells": [
  {
   "cell_type": "code",
   "execution_count": 1,
   "metadata": {},
   "outputs": [],
   "source": [
    "import requests\n",
    "from Config import ConsumerKey as key"
   ]
  },
  {
   "cell_type": "code",
   "execution_count": 2,
   "metadata": {},
   "outputs": [],
   "source": [
    "# define our endpoint\n",
    "endpoint = r'https://api.tdameritrade.com/v1/marketdata/chains'"
   ]
  },
  {
   "cell_type": "code",
   "execution_count": 3,
   "metadata": {},
   "outputs": [],
   "source": [
    "# definte our payload\n",
    "payload = {'apikey':key,\n",
    "           'symbol':'QQQ',\n",
    "           'strikeCount':'30',\n",
    "           'fromDate':'2022-04-01'}"
   ]
  },
  {
   "cell_type": "code",
   "execution_count": 4,
   "metadata": {},
   "outputs": [],
   "source": [
    "# make a request\n",
    "content = requests.get(url = endpoint, params = payload)"
   ]
  },
  {
   "cell_type": "code",
   "execution_count": 5,
   "metadata": {},
   "outputs": [],
   "source": [
    "# convert it to a dictionary\n",
    "data = content.json()"
   ]
  },
  {
   "cell_type": "code",
   "execution_count": 6,
   "metadata": {},
   "outputs": [],
   "source": [
    "import pandas as pd"
   ]
  },
  {
   "cell_type": "code",
   "execution_count": 7,
   "metadata": {},
   "outputs": [],
   "source": [
    "optionsChain = pd.json_normalize(data) "
   ]
  },
  {
   "cell_type": "code",
   "execution_count": 8,
   "metadata": {},
   "outputs": [],
   "source": [
    "categories = ['putCall','symbol', 'volatility','delta','gamma',\n",
    "              'theta','vega','rho','totalVolume','openInterest','strikePrice']"
   ]
  },
  {
   "cell_type": "code",
   "execution_count": 9,
   "metadata": {},
   "outputs": [],
   "source": [
    "selected = pd.DataFrame(columns = categories, dtype = object)"
   ]
  },
  {
   "cell_type": "code",
   "execution_count": 10,
   "metadata": {},
   "outputs": [],
   "source": [
    "for i in range(len(optionsChain.transpose())-12):\n",
    "    for j in categories:\n",
    "        # iterate and put values into 'selected' dataframe\n",
    "        selected.at[i, j] = optionsChain.iat[0, i+12][0].get(j)"
   ]
  },
  {
   "cell_type": "code",
   "execution_count": 11,
   "metadata": {
    "scrolled": false
   },
   "outputs": [
    {
     "data": {
      "text/html": [
       "<div>\n",
       "<style scoped>\n",
       "    .dataframe tbody tr th:only-of-type {\n",
       "        vertical-align: middle;\n",
       "    }\n",
       "\n",
       "    .dataframe tbody tr th {\n",
       "        vertical-align: top;\n",
       "    }\n",
       "\n",
       "    .dataframe thead th {\n",
       "        text-align: right;\n",
       "    }\n",
       "</style>\n",
       "<table border=\"1\" class=\"dataframe\">\n",
       "  <thead>\n",
       "    <tr style=\"text-align: right;\">\n",
       "      <th></th>\n",
       "      <th>putCall</th>\n",
       "      <th>symbol</th>\n",
       "      <th>volatility</th>\n",
       "      <th>delta</th>\n",
       "      <th>gamma</th>\n",
       "      <th>theta</th>\n",
       "      <th>vega</th>\n",
       "      <th>rho</th>\n",
       "      <th>openInterest</th>\n",
       "      <th>strikePrice</th>\n",
       "    </tr>\n",
       "  </thead>\n",
       "  <tbody>\n",
       "    <tr>\n",
       "      <th>0</th>\n",
       "      <td>PUT</td>\n",
       "      <td>QQQ_050622P298</td>\n",
       "      <td>NaN</td>\n",
       "      <td>NaN</td>\n",
       "      <td>NaN</td>\n",
       "      <td>NaN</td>\n",
       "      <td>-999</td>\n",
       "      <td>NaN</td>\n",
       "      <td>1593</td>\n",
       "      <td>298</td>\n",
       "    </tr>\n",
       "    <tr>\n",
       "      <th>1</th>\n",
       "      <td>PUT</td>\n",
       "      <td>QQQ_050622P299</td>\n",
       "      <td>NaN</td>\n",
       "      <td>NaN</td>\n",
       "      <td>NaN</td>\n",
       "      <td>NaN</td>\n",
       "      <td>-999</td>\n",
       "      <td>NaN</td>\n",
       "      <td>2279</td>\n",
       "      <td>299</td>\n",
       "    </tr>\n",
       "    <tr>\n",
       "      <th>2</th>\n",
       "      <td>PUT</td>\n",
       "      <td>QQQ_050622P300</td>\n",
       "      <td>NaN</td>\n",
       "      <td>NaN</td>\n",
       "      <td>NaN</td>\n",
       "      <td>NaN</td>\n",
       "      <td>-999</td>\n",
       "      <td>NaN</td>\n",
       "      <td>16951</td>\n",
       "      <td>300</td>\n",
       "    </tr>\n",
       "    <tr>\n",
       "      <th>3</th>\n",
       "      <td>PUT</td>\n",
       "      <td>QQQ_050622P301</td>\n",
       "      <td>NaN</td>\n",
       "      <td>NaN</td>\n",
       "      <td>NaN</td>\n",
       "      <td>NaN</td>\n",
       "      <td>-999</td>\n",
       "      <td>NaN</td>\n",
       "      <td>4721</td>\n",
       "      <td>301</td>\n",
       "    </tr>\n",
       "    <tr>\n",
       "      <th>4</th>\n",
       "      <td>PUT</td>\n",
       "      <td>QQQ_050622P302</td>\n",
       "      <td>45.134</td>\n",
       "      <td>-0.09</td>\n",
       "      <td>0.017</td>\n",
       "      <td>-0.386</td>\n",
       "      <td>0.035</td>\n",
       "      <td>-0.001</td>\n",
       "      <td>3552</td>\n",
       "      <td>302</td>\n",
       "    </tr>\n",
       "    <tr>\n",
       "      <th>...</th>\n",
       "      <td>...</td>\n",
       "      <td>...</td>\n",
       "      <td>...</td>\n",
       "      <td>...</td>\n",
       "      <td>...</td>\n",
       "      <td>...</td>\n",
       "      <td>...</td>\n",
       "      <td>...</td>\n",
       "      <td>...</td>\n",
       "      <td>...</td>\n",
       "    </tr>\n",
       "    <tr>\n",
       "      <th>1735</th>\n",
       "      <td>CALL</td>\n",
       "      <td>QQQ_011924C365</td>\n",
       "      <td>24.252</td>\n",
       "      <td>0.434</td>\n",
       "      <td>0.004</td>\n",
       "      <td>-0.04</td>\n",
       "      <td>1.658</td>\n",
       "      <td>1.872</td>\n",
       "      <td>491</td>\n",
       "      <td>365</td>\n",
       "    </tr>\n",
       "    <tr>\n",
       "      <th>1736</th>\n",
       "      <td>CALL</td>\n",
       "      <td>QQQ_011924C370</td>\n",
       "      <td>24.062</td>\n",
       "      <td>0.415</td>\n",
       "      <td>0.004</td>\n",
       "      <td>-0.039</td>\n",
       "      <td>1.64</td>\n",
       "      <td>1.801</td>\n",
       "      <td>2659</td>\n",
       "      <td>370</td>\n",
       "    </tr>\n",
       "    <tr>\n",
       "      <th>1737</th>\n",
       "      <td>CALL</td>\n",
       "      <td>QQQ_011924C375</td>\n",
       "      <td>23.878</td>\n",
       "      <td>0.396</td>\n",
       "      <td>0.004</td>\n",
       "      <td>-0.038</td>\n",
       "      <td>1.619</td>\n",
       "      <td>1.729</td>\n",
       "      <td>435</td>\n",
       "      <td>375</td>\n",
       "    </tr>\n",
       "    <tr>\n",
       "      <th>1738</th>\n",
       "      <td>CALL</td>\n",
       "      <td>QQQ_011924C380</td>\n",
       "      <td>23.691</td>\n",
       "      <td>0.377</td>\n",
       "      <td>0.004</td>\n",
       "      <td>-0.037</td>\n",
       "      <td>1.594</td>\n",
       "      <td>1.656</td>\n",
       "      <td>1228</td>\n",
       "      <td>380</td>\n",
       "    </tr>\n",
       "    <tr>\n",
       "      <th>1739</th>\n",
       "      <td>CALL</td>\n",
       "      <td>QQQ_011924C385</td>\n",
       "      <td>23.52</td>\n",
       "      <td>0.359</td>\n",
       "      <td>0.004</td>\n",
       "      <td>-0.036</td>\n",
       "      <td>1.566</td>\n",
       "      <td>1.584</td>\n",
       "      <td>1567</td>\n",
       "      <td>385</td>\n",
       "    </tr>\n",
       "  </tbody>\n",
       "</table>\n",
       "<p>1740 rows × 10 columns</p>\n",
       "</div>"
      ],
      "text/plain": [
       "     putCall          symbol volatility  delta  gamma  theta   vega    rho  \\\n",
       "0        PUT  QQQ_050622P298        NaN    NaN    NaN    NaN   -999    NaN   \n",
       "1        PUT  QQQ_050622P299        NaN    NaN    NaN    NaN   -999    NaN   \n",
       "2        PUT  QQQ_050622P300        NaN    NaN    NaN    NaN   -999    NaN   \n",
       "3        PUT  QQQ_050622P301        NaN    NaN    NaN    NaN   -999    NaN   \n",
       "4        PUT  QQQ_050622P302     45.134  -0.09  0.017 -0.386  0.035 -0.001   \n",
       "...      ...             ...        ...    ...    ...    ...    ...    ...   \n",
       "1735    CALL  QQQ_011924C365     24.252  0.434  0.004  -0.04  1.658  1.872   \n",
       "1736    CALL  QQQ_011924C370     24.062  0.415  0.004 -0.039   1.64  1.801   \n",
       "1737    CALL  QQQ_011924C375     23.878  0.396  0.004 -0.038  1.619  1.729   \n",
       "1738    CALL  QQQ_011924C380     23.691  0.377  0.004 -0.037  1.594  1.656   \n",
       "1739    CALL  QQQ_011924C385      23.52  0.359  0.004 -0.036  1.566  1.584   \n",
       "\n",
       "     openInterest strikePrice  \n",
       "0            1593         298  \n",
       "1            2279         299  \n",
       "2           16951         300  \n",
       "3            4721         301  \n",
       "4            3552         302  \n",
       "...           ...         ...  \n",
       "1735          491         365  \n",
       "1736         2659         370  \n",
       "1737          435         375  \n",
       "1738         1228         380  \n",
       "1739         1567         385  \n",
       "\n",
       "[1740 rows x 10 columns]"
      ]
     },
     "execution_count": 11,
     "metadata": {},
     "output_type": "execute_result"
    }
   ],
   "source": [
    "selected"
   ]
  },
  {
   "cell_type": "code",
   "execution_count": 12,
   "metadata": {},
   "outputs": [
    {
     "data": {
      "text/plain": [
       "'cycle through all dates; add them to set; create new dfs with set; place relevant items into relevant dfs'"
      ]
     },
     "execution_count": 12,
     "metadata": {},
     "output_type": "execute_result"
    }
   ],
   "source": [
    "'''cycle through all dates; add them to set; create new dfs with set; place relevant items into relevant dfs'''"
   ]
  },
  {
   "cell_type": "code",
   "execution_count": 13,
   "metadata": {},
   "outputs": [
    {
     "name": "stdout",
     "output_type": "stream",
     "text": [
      "['050622', '050922', '051122', '051322', '051622', '051822', '052022', '052322', '052522', '052722', '053122', '060122', '060322', '061022', '061722', '062422', '063022', '071522', '081922', '091622', '093022', '121622', '123022', '012023', '031723', '033123', '061623', '121523', '011924']\n",
      "Wall time: 1 ms\n"
     ]
    }
   ],
   "source": [
    "%%time\n",
    "# create set for use with dataFrame creation loop (name of dfs = date portion of 'symbol')\n",
    "dateSet = []\n",
    "for i in selected['symbol']:\n",
    "#     print(selected['symbol'][4:10])\n",
    "#     print(i[4:10])\n",
    "    if i[4:10] not in dateSet:\n",
    "        a = i[4:10]\n",
    "        dateSet.append(a)\n",
    "print(dateSet)"
   ]
  },
  {
   "cell_type": "code",
   "execution_count": 14,
   "metadata": {},
   "outputs": [],
   "source": [
    "# creating dataframes via loop with names = items from dateSet above\n",
    "d = {}\n",
    "for name in dateSet:\n",
    "    d[name] = pd.DataFrame(columns = categories, dtype = object)"
   ]
  },
  {
   "cell_type": "code",
   "execution_count": 15,
   "metadata": {},
   "outputs": [
    {
     "name": "stdout",
     "output_type": "stream",
     "text": [
      "Wall time: 8.27 s\n"
     ]
    }
   ],
   "source": [
    "%%time\n",
    "# loop through all dateSet dates, then loop through all rows in selected(dataframe),\n",
    "#  check if date from dateSet is within symbol from current row of selected(dataframe),\n",
    "#  if date from dateSet is within symbol from current row of selected(dataframe) then add the \n",
    "#  current row of selected(dataframe) into the dateSet dates' dataframe (dataframes are housed\n",
    "#  within the 'd' dictionary which is a dictionary of dataframes created for each date)\n",
    "for dates in dateSet:\n",
    "#     print(i)\n",
    "    counter = 0\n",
    "    for symbol in selected['symbol']:\n",
    "        \n",
    "        if dates in symbol:\n",
    "#             print(j)\n",
    "#             print(d[i])\n",
    "            d[dates].loc[len(d[dates].index)] = selected.loc[counter]\n",
    "        counter += 1"
   ]
  },
  {
   "cell_type": "code",
   "execution_count": 16,
   "metadata": {},
   "outputs": [
    {
     "data": {
      "text/plain": [
       "'Run script once a day before open; store all tables into a dictionary named after the current date'"
      ]
     },
     "execution_count": 16,
     "metadata": {},
     "output_type": "execute_result"
    }
   ],
   "source": [
    "'''Run script once a day before open; store all tables into a dictionary named after the current date'''"
   ]
  },
  {
   "cell_type": "code",
   "execution_count": 17,
   "metadata": {},
   "outputs": [],
   "source": [
    "from datetime import date"
   ]
  },
  {
   "cell_type": "code",
   "execution_count": 18,
   "metadata": {},
   "outputs": [],
   "source": [
    "currentDay = date.today()"
   ]
  },
  {
   "cell_type": "code",
   "execution_count": 19,
   "metadata": {},
   "outputs": [],
   "source": [
    "today = str(currentDay.month)+str(currentDay.day)+str(currentDay.year)"
   ]
  },
  {
   "cell_type": "code",
   "execution_count": 20,
   "metadata": {
    "scrolled": true
   },
   "outputs": [
    {
     "data": {
      "text/plain": [
       "'05052022'"
      ]
     },
     "execution_count": 20,
     "metadata": {},
     "output_type": "execute_result"
    }
   ],
   "source": [
    "# Checking if single digit date and adding zeros accordingly; formatting entire date properly\n",
    "if len(str(currentDay.day)) == 1:\n",
    "    correctedDay = str(currentDay.day).zfill(2)\n",
    "#     print(correctedDay)\n",
    "else:\n",
    "    correctedDay = currentDay.day\n",
    "#     print(correctedDay)\n",
    "if len(str(currentDay.month)) == 1:\n",
    "    correctedMonth = str(currentDay.month).zfill(2)\n",
    "#     print(correctedMonth)\n",
    "else:\n",
    "    correctedMonth = currentDay.month\n",
    "#     print(correctedmonth)\n",
    "    \n",
    "today = str(correctedMonth)+str(correctedDay)+str(currentDay.year)\n",
    "today"
   ]
  },
  {
   "cell_type": "code",
   "execution_count": 21,
   "metadata": {},
   "outputs": [],
   "source": [
    "import pickle"
   ]
  },
  {
   "cell_type": "code",
   "execution_count": 22,
   "metadata": {},
   "outputs": [],
   "source": [
    "try:\n",
    "    with open('mypickle.pickle', 'rb') as f:\n",
    "        bigDictionary = pickle.load(f)\n",
    "except Exception as e:\n",
    "    print(e)"
   ]
  },
  {
   "cell_type": "code",
   "execution_count": 23,
   "metadata": {},
   "outputs": [],
   "source": [
    "# bigDictionary = {}"
   ]
  },
  {
   "cell_type": "code",
   "execution_count": 24,
   "metadata": {},
   "outputs": [],
   "source": [
    "# Iteratively adding dictionaries per day\n",
    "bigDictionary[today] = d"
   ]
  },
  {
   "cell_type": "code",
   "execution_count": 25,
   "metadata": {},
   "outputs": [
    {
     "data": {
      "text/plain": [
       "\"begin pickle process to commit each day's addition to a running file\""
      ]
     },
     "execution_count": 25,
     "metadata": {},
     "output_type": "execute_result"
    }
   ],
   "source": [
    "'''begin pickle process to commit each day's addition to a running file'''"
   ]
  },
  {
   "cell_type": "code",
   "execution_count": 26,
   "metadata": {},
   "outputs": [],
   "source": [
    "with open('mypickle.pickle', 'wb') as f:\n",
    "    pickle.dump(bigDictionary, f, protocol=pickle.HIGHEST_PROTOCOL)"
   ]
  }
 ],
 "metadata": {
  "kernelspec": {
   "display_name": "Python 3",
   "language": "python",
   "name": "python3"
  },
  "language_info": {
   "codemirror_mode": {
    "name": "ipython",
    "version": 3
   },
   "file_extension": ".py",
   "mimetype": "text/x-python",
   "name": "python",
   "nbconvert_exporter": "python",
   "pygments_lexer": "ipython3",
   "version": "3.8.1"
  }
 },
 "nbformat": 4,
 "nbformat_minor": 4
}
